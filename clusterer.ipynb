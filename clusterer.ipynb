{
 "metadata": {
  "language_info": {
   "codemirror_mode": {
    "name": "ipython",
    "version": 3
   },
   "file_extension": ".py",
   "mimetype": "text/x-python",
   "name": "python",
   "nbconvert_exporter": "python",
   "pygments_lexer": "ipython3",
   "version": "3.9.0"
  },
  "orig_nbformat": 4,
  "kernelspec": {
   "name": "python3",
   "display_name": "Python 3.9.0 64-bit"
  },
  "interpreter": {
   "hash": "e882250b062d2dd098101acb5dd85090666daa7906241388f2e20512d0536575"
  }
 },
 "nbformat": 4,
 "nbformat_minor": 2,
 "cells": [
  {
   "source": [
    "# News Clusterer\n",
    "This notebook will be running an incremental clustering algorithm that groups news sources into events. Based on [this research article](https://www.researchgate.net/publication/258028563_Incremental_Clustering_of_News_Reports)."
   ],
   "cell_type": "markdown",
   "metadata": {}
  },
  {
   "source": [],
   "cell_type": "markdown",
   "metadata": {}
  },
  {
   "source": [
    "import numpy\n",
    "import nltk"
   ],
   "cell_type": "code",
   "metadata": {},
   "execution_count": 2,
   "outputs": []
  },
  {
   "source": [
    "## Step 1: Gathering data\n",
    "We will be retrieving:\n",
    "\n",
    "1. events that were previously clustered\n",
    "1. articles that are not clustered into events\n",
    "1. the global word index list"
   ],
   "cell_type": "markdown",
   "metadata": {}
  },
  {
   "source": [],
   "cell_type": "markdown",
   "metadata": {}
  },
  {
   "source": [
    "## Step 2: Preprocessing\n",
    "This will stem the words down to their base forms and remove stopwords."
   ],
   "cell_type": "markdown",
   "metadata": {}
  },
  {
   "cell_type": "code",
   "execution_count": null,
   "metadata": {},
   "outputs": [],
   "source": [
    "def preprocess_string(text: str) -> str:\n",
    "    pass"
   ]
  },
  {
   "source": [
    "## Step 3: Vectorizing\n",
    "\n",
    "This will create a vector based on the term frequency of a word. Full term weights with document frequency will be calculated in a later step to support incremental additions. "
   ],
   "cell_type": "markdown",
   "metadata": {}
  },
  {
   "cell_type": "code",
   "execution_count": null,
   "metadata": {},
   "outputs": [],
   "source": [
    "def vectorize_string(text: str) -> numpy.ndarray:\n",
    "    pass"
   ]
  },
  {
   "source": [
    "## Step 4: Clustering\n",
    "\n",
    "This will add the vector to the cluster using the full TF-IDF weighing to compare vectors."
   ],
   "cell_type": "markdown",
   "metadata": {}
  },
  {
   "cell_type": "code",
   "execution_count": null,
   "metadata": {},
   "outputs": [],
   "source": [
    "def add_to_event(vector, events) -> list:"
   ]
  }
 ]
}
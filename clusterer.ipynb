{
 "metadata": {
  "language_info": {
   "codemirror_mode": {
    "name": "ipython",
    "version": 3
   },
   "file_extension": ".py",
   "mimetype": "text/x-python",
   "name": "python",
   "nbconvert_exporter": "python",
   "pygments_lexer": "ipython3",
   "version": "3.9.0"
  },
  "orig_nbformat": 4,
  "kernelspec": {
   "name": "python3",
   "display_name": "Python 3.9.0 64-bit"
  },
  "interpreter": {
   "hash": "e882250b062d2dd098101acb5dd85090666daa7906241388f2e20512d0536575"
  }
 },
 "nbformat": 4,
 "nbformat_minor": 2,
 "cells": [
  {
   "source": [
    "# News Clusterer\n",
    "This notebook will be running an incremental clustering algorithm that groups news sources into events. Based on [this research article](https://www.researchgate.net/publication/258028563_Incremental_Clustering_of_News_Reports)."
   ],
   "cell_type": "markdown",
   "metadata": {}
  },
  {
   "source": [],
   "cell_type": "markdown",
   "metadata": {}
  },
  {
   "source": [
    "import numpy as np\n",
    "import nltk\n",
    "from nltk.corpus import stopwords\n",
    "from nltk.tokenize import word_tokenize\n",
    "import json\n",
    "import string\n",
    "import math\n",
    "nltk.download('stopwords')\n",
    "nltk.download('punkt')"
   ],
   "cell_type": "code",
   "metadata": {},
   "execution_count": 2,
   "outputs": [
    {
     "output_type": "stream",
     "name": "stderr",
     "text": [
      "[nltk_data] Downloading package stopwords to\n[nltk_data]     C:\\Users\\Benedict\\AppData\\Roaming\\nltk_data...\n[nltk_data]   Package stopwords is already up-to-date!\n[nltk_data] Downloading package punkt to\n[nltk_data]     C:\\Users\\Benedict\\AppData\\Roaming\\nltk_data...\n[nltk_data]   Package punkt is already up-to-date!\n"
     ]
    },
    {
     "output_type": "execute_result",
     "data": {
      "text/plain": [
       "True"
      ]
     },
     "metadata": {},
     "execution_count": 2
    }
   ]
  },
  {
   "source": [
    "## Step 1: Gathering data\n",
    "We will be retrieving:\n",
    "\n",
    "1. articles that are not clustered into events\n",
    "1. events that were previously clustered (if they exist)\n",
    "1. the global word index list (if it exists)"
   ],
   "cell_type": "markdown",
   "metadata": {}
  },
  {
   "source": [
    "with open('articles.json', 'r', encoding='utf-8') as f:\n",
    "    articles = json.loads(f.read())"
   ],
   "cell_type": "code",
   "metadata": {
    "tags": []
   },
   "execution_count": 3,
   "outputs": []
  },
  {
   "source": [
    "## Step 2: Preprocessing\n",
    "This will stem the words down to their base forms and remove stopwords."
   ],
   "cell_type": "markdown",
   "metadata": {}
  },
  {
   "cell_type": "code",
   "execution_count": 4,
   "metadata": {},
   "outputs": [],
   "source": [
    "def preprocess_string(text: str) -> str:\n",
    "    text = text.translate(str.maketrans('', '', string.punctuation))\n",
    "    stop_words = set(stopwords.words('english'))\n",
    "    tokens = word_tokenize(text)\n",
    "    filtered_tokens = [token for token in tokens if token.lower() not in stop_words]\n",
    "    return filtered_tokens"
   ]
  },
  {
   "source": [
    "## Step 3: Vectorizing\n",
    "\n",
    "This will create a vector based on the term frequency of a word. Full term weights with document frequency will be calculated in a later step to support incremental additions. "
   ],
   "cell_type": "markdown",
   "metadata": {}
  },
  {
   "cell_type": "code",
   "execution_count": 5,
   "metadata": {},
   "outputs": [],
   "source": [
    "def vectorize(processed_text:list, index:list[str]=[]) -> (np.ndarray, list):\n",
    "    unique_words = set(processed_text)\n",
    "\n",
    "    text_freq_dict = {word: 0 for word in unique_words}\n",
    "    for word in processed_text:\n",
    "        text_freq_dict[word] += 1\n",
    "\n",
    "    if index == []:\n",
    "        index = list(unique_words)\n",
    "    else:\n",
    "        index += [word for word in unique_words if word not in index]\n",
    "    \n",
    "    text_freq = []\n",
    "    for word in index:\n",
    "        text_freq.append(text_freq_dict[word] if word in unique_words else 0)\n",
    "    vector = np.array(text_freq) / len(processed_text)\n",
    "    return np.array(text_freq) / len(processed_text), index"
   ]
  },
  {
   "source": [
    "## Step 4: Clustering\n",
    "\n",
    "This will add the vector to the cluster using the full TF-IDF weighing to compare vectors. Each cluster is a dict that contains an average vector and its articles. Each article item contains a company name, tf vector, title, and description. Only the tf vector is necessary for clustering."
   ],
   "cell_type": "markdown",
   "metadata": {}
  },
  {
   "cell_type": "code",
   "execution_count": 9,
   "metadata": {},
   "outputs": [],
   "source": [
    "def similarity(a:np.ndarray, b:np.ndarray) -> float:\n",
    "    cos_similarity = (a @ b) / (np.linalg.norm(a) * np.linalg.norm(b))\n",
    "    return cos_similarity\n",
    "\n",
    "def add_to_cluster(new_article:dict, index:list, clusters:list=[], threshold:float=0.4) -> list:\n",
    "    new_clusters = []\n",
    "\n",
    "    \n",
    "    for cluster in clusters:\n",
    "        padding_len = len(index) - len(cluster['vector'])\n",
    "        new_clusters.append({\n",
    "            'vector': np.pad(cluster['vector'], (0, padding_len)),\n",
    "            'articles': cluster['articles']\n",
    "        })\n",
    "        for article in cluster['articles']:\n",
    "            article['vector'] = np.pad(article['vector'], (0, padding_len))\n",
    "            \n",
    "    document_freq = np.ceil(new_article['vector'])\n",
    "    for cluster in new_clusters:\n",
    "        for article in cluster['articles']:\n",
    "            document_freq += np.ceil(article['vector'])\n",
    "\n",
    "    inv_document_freq = np.zeros(len(document_freq))\n",
    "    document_count = sum([sum([1 for article in cluster['articles']]) for cluster in new_clusters]) + 1\n",
    "    for i in range(len(document_freq)):\n",
    "        num = document_freq[i]\n",
    "        if num != 0:\n",
    "            num = math.log((1 / num) * document_count)\n",
    "            inv_document_freq[i] = num\n",
    "\n",
    "    closest_dist = 0\n",
    "    closest_cluster = None\n",
    "\n",
    "    for cluster in new_clusters:\n",
    "        new_dist = similarity(np.multiply(new_article['vector'], inv_document_freq), np.multiply(cluster['vector'], inv_document_freq))\n",
    "        if new_dist < threshold:\n",
    "            continue\n",
    "        if new_dist > closest_dist:\n",
    "            closest_dist = new_dist\n",
    "            closest_cluster = cluster\n",
    "    \n",
    "    if closest_cluster == None:\n",
    "        new_clusters.append({\n",
    "            'vector': new_article['vector'],\n",
    "            'articles': [new_article]\n",
    "        })\n",
    "    else: \n",
    "        closest_cluster['articles'].append(new_article)\n",
    "        closest_cluster['vector'] = sum([closest_article['vector'] for closest_article in closest_cluster['articles']]) / len(closest_cluster['articles'])\n",
    "    return new_clusters\n",
    "    "
   ]
  },
  {
   "source": [
    "## Step 5: Putting it together\n",
    "\n",
    "With the previous steps, this will make a news clusterer."
   ],
   "cell_type": "markdown",
   "metadata": {}
  },
  {
   "source": [
    "class NewsClusterer:\n",
    "    def __init__(self, threshold:float=0.4, current_clusters:list=[], word_index:list=[]):\n",
    "        self.clusters = current_clusters\n",
    "        self.word_index = word_index\n",
    "        self.threshold = threshold\n",
    "\n",
    "    def add(self, new_articles:list[dict]) -> list:\n",
    "        for article in new_articles:\n",
    "            text = article['title'] + ' ' + article['description']\n",
    "            processed = preprocess_string(text)\n",
    "            article['vector'], self.word_index = vectorize(processed, self.word_index)\n",
    "            self.clusters = add_to_cluster(article, self.word_index, self.clusters, self.threshold)\n",
    "        return self.clusters\n",
    "\n",
    "article_dicts = []\n",
    "for article in articles:\n",
    "    article_dicts.append({\n",
    "        'company': article['company'],\n",
    "        'title': article['title'],\n",
    "        'description': article['description'],\n",
    "        'vector': None\n",
    "    })\n",
    "    \n",
    "    \n",
    "clusterer = NewsClusterer(0.2)\n",
    "clusters = clusterer.add(article_dicts)\n"
   ],
   "cell_type": "code",
   "metadata": {
    "tags": []
   },
   "execution_count": 20,
   "outputs": []
  },
  {
   "source": [
    "## Printing the cluster\n",
    "Because I want to :)"
   ],
   "cell_type": "markdown",
   "metadata": {}
  },
  {
   "cell_type": "code",
   "execution_count": 22,
   "metadata": {
    "tags": []
   },
   "outputs": [
    {
     "output_type": "stream",
     "name": "stdout",
     "text": [
      "Cluster  1 : \n\t LA Times :  Some 200 California projects may be funded by infrastructure bill. Search your city's projects here\n\t LA Times :  Biden talks up bipartisan infrastructure deal in swing-state Wisconsin\n\t LA Times :  As Biden reassures moderates on infrastructure, progressives worry\n\t LA Times :  'We have a deal': Biden, lawmakers reach tentative bipartisan infrastructure agreement\n\t LA Times :  Democrats to seek citizenship pathway for immigrants in infrastructure bill, Sanders says\n\t CBS News :  Democrats race to bring bipartisan infrastructure deal to Senate\n\t CBS News :  Progressives demand climate action be in infrastructure deal\n\t Daily Mail :  'Never a veto threat!' Biden backtracks on tying bipartisan infrastructure deal to reconciliation\n\t Daily Mail :  Republican FURY after Biden tied $1.2trillion infrastructure deal to huge reconciliation package\n\t Daily Mail :  Joe Biden's infrastructure deal slammed by The Squad AOC as suggests racism is behind $1.2tn plan\n\t Daily Mail :  Joe Biden will KEEP pushing Republicans to agree to $1.7tn infrastructure deal\nCluster  2 : \n\t CNN :  Biden warns Putin during call that 'we expect him to act' on Russian ransomware attacks\n\t HuffPost :  Biden Tells Putin Russia Must Crack Down On Cybercriminals\n\t CBS News :  Biden warns Putin to act on Russian cyber-criminals targeting U.S.\n\t CBS News :  Biden presses Putin to crack down on cyberattacks\n\t CBS News :  Biden speaks to Putin after latest ransomware attacks\n\t CBS News :  Biden faces pressure to respond amid latest ransomware attacks\n\t Epoch Times :  Biden Warns Putin on Russian-Based Ransomware Attacks\n\t Daily Mail :  Biden calls Putin to say US will take necessary action to defend against Russian ransomware attacks\nCluster  3 : \n\t CNN :  Biden defends pulling US out of Afghanistan as Taliban advances: 'We did not go to Afghanistan to nation-build'\n\t LA Times :  As Taliban gains, Biden defends U.S. exit from Afghanistan, says it's ahead of schedule\n\t CBS News :  President Biden announced that troops will leave Afghanistan by August 31\n\t CBS News :  U.S. military mission in Afghanistan will end August 31, Biden says\n\t CBS News :  Special Report: Biden announces U.S. military mission in Afghanistan will end on August 31\n\t CBS News :  U.S. to complete withdrawal from Afghanistan by August 31\n\t CBS News :  Taliban overwhelms Afghan troops as U.S. withdrawal looms\n\t Daily Mail :  Biden administration sends 3.3million Covid vaccine doses to Afghanistan with the Taliban surging\nCluster  4 : \n\t LA Times :  Trump faults Biden during Texas visit: 'We produced the safest, best border we've ever had'\n\t LA Times :  Kamala Harris sees immigration problems firsthand in visit to the U.S.-Mexico border\n\t LA Times :  Kamala Harris to head to the border amid GOP criticism\n\t BBC News :  Immigration: Is US-Mexico border seeing a surge in migrants?\n\t BBC News :  Kamala Harris visits US border amid migrant crisis\n\t BBC News :  Child migrants: The challenges facing Biden at the US-Mexico border\n\t Daily Mail :  Doug Emhoff denies Trump shamed Kamala into going to the border tomorrow\nCluster  5 : \n\t LA Times :  U.S. Capitol Police to open California office following Jan. 6 attack\n\t LA Times :  House creates committee to investigate Jan. 6 Capitol attack\n\t LA Times :  Pelosi creating House panel to investigate Capitol riot\n\t CBS News :  Capitol Police open field offices to investigate threats to lawmakers\n\t Epoch Times :  Naming the Capitol Police Officer Who Killed Unarmed Jan. 6 Rioter Ashli Babbitt\n\t Daily Mail :  US Capitol riots: Donald Trump slams 'wayward' 35 Republican rebels who voted for commission\nCluster  6 : \n\t LA Times :  GOP blocks Democrats' voting rights bill in Senate, angering activists\n\t Daily Mail :  'Call me radical' AOC slams Republicans for using the filibuster to kill the For The People Act\n\t Daily Mail :  Biden accuses Republicans of 'voter suppression' after entire Senate GOP blocked voting rights bill\n\t Daily Mail :  Manchin will vote to PASS voting rights bill - but Democrats still need 10 Republicans to proceed\n\t Daily Mail :  Mitch McConnell says Democrats show 'disdain for the American people' with their voting rights bill\n\t Daily Mail :  Democrats brace for DEFEAT in voting rights bill after Biden failed to get Joe Manchin to back it\nCluster  7 : \n\t CNN :  Biden fires top official at Social Security Administration after he refuses to resign\n\t HuffPost :  Biden Fires Trump Administration Holdover Who Refused To Resign\n\t CBS News :  Biden fires Social Security Commissioner Andrew Saul\n\t Epoch Times :  Biden Admin Fires Social Security Commissioner Andrew Saul, Who Says He Won’t Leave\n\t National Review :  Biden Fires Social Security Chief after He Refused to Resign\nCluster  8 : \n\t BBC News :  Miami condo collapse: A boom, then the ground shook\n\t BBC News :  Miami building collapse: What could have caused it?\n\t BBC News :  Miami building collapse: 'People went to sleep, and then they died'\n\t BBC News :  'It's the craziest thing I ever heard in my life'\n\t BBC News :  Miami building collapse: 'I'm not losing my hope'\nCluster  9 : \n\t Daily Mail :  House Republican leader urges Nancy Pelosi to remove Ilhan Omar from Foreign Affairs committee\n\t Daily Mail :  House Republicans who voted to oust Marjorie Taylor Greene say Pelosi must punish Ilhan Omar\n\t Daily Mail :  Rashida Tlaib says 'freedom of speech doesn't exist for Muslim women in Congress'\n\t Daily Mail :  Nancy Pelosi now says she WON'T punish Ilhan Omar for comparing the US and Israel to Hamas\n\t Daily Mail :  Ilhan Omar accuses Democratic colleagues of Islamophobia for criticizing her condemnation of the US\nCluster  10 : \n\t CNN :  Biden picks Los Angeles Mayor Eric Garcetti for ambassador to India\n\t HuffPost :  Biden To Nominate LA Mayor Eric Garcetti To Be U.S. Ambassador To India\n\t CBS News :  Biden nominates Los Angeles Mayor Eric Garcetti as ambassador to India\n\t Epoch Times :  Biden Nominates LA Mayor Eric Garcetti for India Ambassador\nCluster  11 : \n\t CNN :  Biden signs sweeping executive order that targets Big Tech and aims to push competition in US economy\n\t HuffPost :  Joe Biden Wants To Crack Down On Noncompete Clauses\n\t CBS News :  Biden signs executive order cracking down on anticompetitive economic practices\n\t BBC News :  Biden signs new order cracking down on Big Tech\nCluster  12 : \n\t HuffPost :  Charlottesville To Remove Confederate Monuments Saturday\n\t CBS News :  Charlottesville removes two Confederate statues\n\t BBC News :  Charlottesville takes down Robert E Lee statue that sparked rally\n\t Epoch Times :  Charlottesville Removes Confederate Robert E. Lee Statue\nCluster  13 : \n\t Epoch Times :  LIVE: CPAC Texas: ‘America Uncanceled’ (Day 2)\n\t Epoch Times :  LIVE: CPAC Texas: ‘America Uncanceled’ (Day 1)\n\t Fox News :  Lt. Gov. Dan Patrick touts Texas COVID approach, says CPAC should stay in Lone Star State\n\t Fox News :  Power briefly goes out at CPAC, massive conservative political conference\nCluster  14 : \n\t CNN :  White House doubles down on Covid-19 strategy as pressure from Delta variant rises\n\t LA Times :  Biden urges getting shots as coronavirus variant spreads: 'It's a patriotic thing to do'\n\t BBC News :  Dr Fauci on Delta variant: Unvaccinated Americans risk new Covid surge\nCluster  15 : \n\t HuffPost :  Arizona Secretary Of State Seeks Probe Of Alleged Trump Election Interference\n\t BBC News :  Audit or Fraudit? Trump supporters bank on Arizona\n\t Epoch Times :  Arizona Secretary of State Seeks Probe of Trump, Giuliani\nCluster  16 : \n\t LA Times :  Secretary of State Blinken gets warm welcome in Europe, but did he get agreement on China?\n\t LA Times :  Pope Francis meets with Secretary of State Blinken at the Vatican\n\t LA Times :  News analysis: Biden's top diplomat to meet pope — and try to ignore the elephant in the room\nCluster  17 : \n\t LA Times :  Three Californians, GOP's Cheney among Pelosi's picks for panel investigating Jan. 6\n\t Daily Mail :  80% Republicans BACK ousting Liz Cheney as two-thirds claim loyalty to Trump is 'important'\n\t Daily Mail :  House Republicans prepare to elect Trump supporter Elise Stefanik as conference chair\nCluster  18 : \n\t LA Times :  Biden consoles families of people missing in Florida condo collapse: 'They're going through hell'\n\t Daily Mail :  Joe and Jill Biden will visit the collapsed Miami condo on Thursday\n\t Daily Mail :  Nashville crowd BOOS after Jill Biden talks low vaccine rates during tour of South\nCluster  19 : \n\t CBS News :  CBS News travel editor Peter Greenberg on “The Takeout” - 7/9/2021\n\t CBS News :  The Takeout: A CBS News original political podcast\n\t CBS News :  Investigative reporter Michael Isikoff discusses Jamal Khashoggi's murder\nCluster  20 : \n\t BBC News :  US woman killed by bear that dragged her from tent in Montana\n\t BBC News :  The moment a bear was coaxed off a utility pole\n\t BBC News :  The California girl who pushed a bear to protect her dogs\nCluster  21 : \n\t BBC News :  Growing hate crime against Asian Americans\n\t Daily Mail :  Biden slams 'ugly poison' of racism and signs anti-Asian hate crime bill\n\t Daily Mail :  House passes anti-Asian hate crime bill in bipartisan vote of 364-62 and sends it to Biden's desk\nCluster  22 : \n\t BBC News :  George Floyd death: How do I talk to my son about race?\n\t BBC News :  George Floyd death: How US police are trying to win back trust\n\t BBC News :  Adama Traore: How George Floyd's death energised French protests\nCluster  23 : \n\t Epoch Times :  McConnell: Flipping House, Senate in 2022 Would Force Biden to Be a Moderate\n\t Daily Mail :  McConnell slams 'far-left' AOC for not being able to 'sell her agenda to her own party'\n\t Daily Mail :  Mitch McConnell calls rollback of 2017 tax cuts to fund infrastructure 'red line'\nCluster  24 : \n\t Daily Mail :  Jen Psaki says Joe Biden believes US children need to learn country's 'challenging' history\n\t Daily Mail :  Jen Psaki says Joe Biden will NOT support a gas tax\n\t Daily Mail :  Jen Psaki snaps at reporter after question on COVID origins\nCluster  25 : \n\t Daily Mail :  Rupert Murdoch personally made the decision for Fox News to broadcast its Arizona election call\n\t Daily Mail :  Trump said Bill Barr would have 'licked the floor' if he won 2020 election, new book claims\n\t Daily Mail :  Some Republican National Committee staff did NOT vote for Trump in 2020 US election, book claims\nCluster  26 : \n\t Daily Mail :  Kamala Harris lands her seventh White House role: promoting child tax credit\n\t Daily Mail :  Joe Biden announces he's sending Kamala Harris on Covid 'vaccine tour' to 'educate' Americans\n\t Daily Mail :  Joe Biden and Kamala Harris finally go maskless for indoor White House event\nCluster  27 : \n\t CNN :  Analysis: How long-standing mistrust of government is hurting our vaccination efforts\n\t National Review :  Republicans Are Right to Push Back against CRT in the Classrooms\nCluster  28 : \n\t CNN :  Covid anxiety remains as Pfizer and US government provide different messaging\n\t CBS News :  CDC says vaccinated children and teachers won't need masks in class\nCluster  29 : \n\t CNN :  How the Manhattan DA could pressure Allen Weisselberg to cooperate against Trump\n\t LA Times :  Prosecutors: Trump Organization and CFO Allen Weisselberg dodged taxes for 15 years\nCluster  30 : \n\t CNN :  How everyone on Medicare could end up paying for the pricey new Alzheimer's drug\n\t CBS News :  FDA calls for probe of agency, Biogen over Alzheimer's drug\nCluster  31 : \n\t CNN :  Michael Avenatti sentenced to 2.5 years in prison for attempting to extort Nike\n\t BBC News :  Michael Avenatti: Celebrity lawyer sentenced to 30 months in prison for extortion\nCluster  32 : \n\t CNN :  White House helped form ethics agreement with art gallery that's selling Hunter Biden's paintings, sources say\n\t BBC News :  White House defends role in Hunter Biden art sale\nCluster  33 : \n\t HuffPost :  Chuck Schumer Says Democrats Are Ready To ‘Expeditiously’ Fill Supreme Court Vacancy\n\t Epoch Times :  Schumer: Democrats Prepared to ‘Expeditiously Fill’ Any Supreme Court Vacancy\nCluster  34 : \n\t LA Times :  Newsom faces court showdown over recall as Caitlyn Jenner is grilled over her record\n\t LA Times :  Newsom recall election set for Sept. 14\nCluster  35 : \n\t LA Times :  Column: Republican Kevin Faulconer tries to run his recall campaign as a policy wonk\n\t LA Times :  Newsom recall rival Kevin Faulconer unveils plan to address homelessness\nCluster  36 : \n\t LA Times :  'We can't cut corners': Biden pledges support for firefighters on front lines in West\n\t LA Times :  As the West begins to burn, Biden to talk wildfires with Newsom and other governors\nCluster  37 : \n\t LA Times :  McManus: Can Democrats win on crime issues with murders rising? Biden thinks so.\n\t BBC News :  Floyd family reflects on police reform one year on\nCluster  38 : \n\t LA Times :  Justice Department will challenge Georgia's restrictive new voting law\n\t Daily Mail :  Republican National Committee vows to fight Joe Biden lawsuit against Georgia's voting rules\nCluster  39 : \n\t LA Times :  Teamsters' push to organize Amazon: Will it work?\n\t LA Times :  Teamsters vow to unionize Amazon, taking on an anti-union behemoth\nCluster  40 : \n\t LA Times :  Biden to oust Trump-appointed Fannie-Freddie regulator after Supreme Court ruling\n\t LA Times :  Fannie, Freddie shares plunge after Supreme Court deals blow to investors\nCluster  41 : \n\t LA Times :  Supreme Court rules California farms can keep union organizers off private land\n\t LA Times :  In two very different California disputes, Supreme Court affirms private property rights\nCluster  42 : \n\t CBS News :  Vaccination rate among ICE detainees remains low as cases surge\n\t CBS News :  Biden bars ICE from detaining pregnant or nursing women\nCluster  43 : \n\t CBS News :  Texas Legislature takes up contentious voting bills in special session\n\t CBS News :  Texas special session brings election law back into spotlight\nCluster  44 : \n\t CBS News :  AP: Eric Adams wins NYC mayoral primary race becoming Democratic nominee for November election\n\t Daily Mail :  NYC mayoral primary: Andrew Yang accepts rival Eric Adams as winner of Democrat race\nCluster  45 : \n\t CBS News :  Biden pitches \"human infrastructure\" investments\n\t CBS News :  Biden pushes child care and education policies in Illinois visit\nCluster  46 : \n\t BBC News :  'Heartbreaking' conditions in US migrant child camp\n\t BBC News :  US migrant camp 'kids feel like they're in prison'\nCluster  47 : \n\t BBC News :  Katty Kay: How 100 days turned into five years of fun\n\t BBC News :  Katty Kay: 'It's been a privilege to sit in this chair'\nCluster  48 : \n\t Epoch Times :  Michigan Attorney General, Police to Probe People Who Made Election Fraud Claims\n\t Epoch Times :  21 GOP Attorneys General Send Biden Letter Opposing EEOC Transgender Guidance\nCluster  49 : \n\t Epoch Times :  Biden Calls for End to Tax Breaks for Oil Companies as Gas Prices Continue to Rise\n\t Epoch Times :  Biden Signals Openness to Extending Child Tax Credit Beyond 2025\nCluster  50 : \n\t National Review :  Reading, Writing, and Racism: the NEA’s Campaign to Gaslight Parents\n\t Daily Mail :  Caitlyn Jenner says she'll fight critical race theory if she becomes Governor of California\nCluster  51 : \n\t Daily Mail :  Democrats urge Kevin McCarthy to address Marjorie Taylor Green's 'dangerous' behavior\n\t Daily Mail :  Marjorie Taylor Greene calls Pelosi a 'Nazi' for refusing to lift House chamber mask mandates\nCluster  52 : \n\t Daily Mail :  Joe Biden raises firefighters minimum wages to $15\n\t Daily Mail :  Biden CAVES on corporate tax hikes, offers to keep 2017 cuts and proposes minimum rate of 15%\nCluster  53 : \n\t Daily Mail :  'Pride is back at the White House': Biden honors LGBTQ month with Jill, Pete Buttigieg and Chasten\n\t Daily Mail :  Joe Biden marks Pride Month by naming a global envoy on LGBTQ rights\nCluster  54 : \n\t Daily Mail :  Republicans call on Anthony Fauci to RESIGN for I AM SCIENCE statement\n\t Daily Mail :  Covid US: Dr Anthony Fauci and Senator Rand Paul clash on origins of virus in Senate hearing\nCluster  55 : \n\t Daily Mail :  Jill Biden enjoys a day at the beach with Carrie Johnson and son Wilfred\n\t Daily Mail :  Jill Biden appears to take a subtle swipe at Melania Trump in a LOVE-emblazoned jacket at G7\nCluster  56 : \n\t Daily Mail :  Lara Trump denies claims her father-in-law thinks he will be reinstated as president by August\n\t Daily Mail :  Donald Trump 'tells people he will be reinstated as president by AUGUST'\nCluster  57 : \n\t Daily Mail :  Madison Cawthorn is pictured leaving Trump Tower in NYC while ex president leaves for New Jersey\n\t Daily Mail :  Donald arrives at Trump Tower as Republican 2024 hopefuls speak at Reagan Library\nCluster  58 : \n\t Daily Mail :  Jill Biden follows new CDC rules and removes face mask on trip with Jennifer Garner in West Virginia\n\t Daily Mail :  Jill Biden takes Joe Manchin on West Virginia trip with Jennifer Garner\nCluster  59 : \n\t Daily Mail :  More than 120 retired military officers write to Joe Biden backing 2020 US election fraud claims\n\t Daily Mail :  Republican Leader Kevin McCarthy says 'nobody is questioning legitimacy' of 2020 US election\nCluster  60 : \n\t Daily Mail :  Texas Democrat says Biden is making migrant facilities look empty by moving children into tents\n\t Daily Mail :  Homeland Security Secretary will tour Texas migrant facility Friday\n"
     ]
    }
   ],
   "source": [
    "\n",
    "\n",
    "for i, cluster in enumerate(sorted(clusters, reverse=True, key=lambda x: len(x['articles']))):\n",
    "    if len(cluster['articles']) == 1:\n",
    "        continue\n",
    "    print('Cluster ', i + 1, ': ')\n",
    "    for article in cluster['articles']:\n",
    "        print('\\t', article['company'] if 'company' in article else '?', ': ',  article['title'])"
   ]
  },
  {
   "source": [
    "## Extra, Part 1\n",
    "This part isn't from the article. I'm a bit worried that I incorrectly implemented the inverse document frequency weights, because that part of the article (and its source) confused me a little. To fix it, maybe I could cluster the initial articles as a batch instead of incremental, and handle future articles incrementally. The actual clustering algorithm will stay the same, but the weights are now consistent. This alternative could possibly be used to start clusters, while the add_to_cluster function can be used to add to existing clusters."
   ],
   "cell_type": "markdown",
   "metadata": {}
  },
  {
   "cell_type": "code",
   "execution_count": 23,
   "metadata": {},
   "outputs": [],
   "source": [
    "def create_cluster(articles:list[dict], index:list, threshold:float=0.4) -> list:\n",
    "    for article in articles:\n",
    "        padding_len = len(index) - len(article['vector'])\n",
    "        article['vector'] = np.pad(article['vector'], (0, padding_len))\n",
    "            \n",
    "    document_freq = np.zeros(len(index))\n",
    "    for article in articles:\n",
    "        document_freq += np.ceil(article['vector'])\n",
    "\n",
    "    inv_document_freq = np.zeros(len(document_freq))\n",
    "    document_count = len(articles)\n",
    "    for i in range(len(document_freq)):\n",
    "        num = document_freq[i]\n",
    "        if num != 0:\n",
    "            num = math.log((1 / num) * document_count)\n",
    "            inv_document_freq[i] = num\n",
    "\n",
    "    new_clusters = []\n",
    "\n",
    "    for article in articles:\n",
    "        closest_dist = 0\n",
    "        closest_cluster = None\n",
    "\n",
    "        for cluster in new_clusters:\n",
    "            new_dist = similarity(np.multiply(article['vector'], inv_document_freq), np.multiply(cluster['vector'], inv_document_freq))\n",
    "            if new_dist < threshold:\n",
    "                continue\n",
    "            if new_dist > closest_dist:\n",
    "                closest_dist = new_dist\n",
    "                closest_cluster = cluster\n",
    "        \n",
    "        if closest_cluster == None:\n",
    "            new_clusters.append({\n",
    "                'vector': article['vector'],\n",
    "                'articles': [article]\n",
    "            })\n",
    "        else: \n",
    "            closest_cluster['articles'].append(article)\n",
    "            closest_cluster['vector'] = sum([closest_article['vector'] for closest_article in closest_cluster['articles']]) / len(closest_cluster['articles'])\n",
    "    return new_clusters"
   ]
  },
  {
   "source": [
    "## Extra, Part 2\n",
    "This will extend the class made previously with the new create function."
   ],
   "cell_type": "markdown",
   "metadata": {}
  },
  {
   "cell_type": "code",
   "execution_count": 30,
   "metadata": {},
   "outputs": [],
   "source": [
    "class NewNewsClusterer(NewsClusterer):\n",
    "    def create(self, new_articles:list[dict]) -> list:\n",
    "        for article in new_articles:\n",
    "            text = article['title'] + ' ' + article['description']\n",
    "            processed = preprocess_string(text)\n",
    "            article['vector'], self.word_index = vectorize(processed, self.word_index)\n",
    "        self.clusters = create_cluster(new_articles, self.word_index, self.threshold)\n",
    "        return self.clusters\n",
    "\n",
    "new_clusterer = NewNewsClusterer(0.2)\n",
    "new_clusters = new_clusterer.create(article_dicts)"
   ]
  },
  {
   "cell_type": "code",
   "execution_count": 31,
   "metadata": {},
   "outputs": [
    {
     "output_type": "stream",
     "name": "stdout",
     "text": [
      "Cluster  1 : \n\t CNN :  Biden warns Putin during call that 'we expect him to act' on Russian ransomware attacks\n\t HuffPost :  Biden Tells Putin Russia Must Crack Down On Cybercriminals\n\t CBS News :  Biden warns Putin to act on Russian cyber-criminals targeting U.S.\n\t CBS News :  Biden presses Putin to crack down on cyberattacks\n\t CBS News :  Biden speaks to Putin after latest ransomware attacks\n\t CBS News :  Biden faces pressure to respond amid latest ransomware attacks\n\t Epoch Times :  Biden Warns Putin on Russian-Based Ransomware Attacks\n\t Daily Mail :  Biden calls Putin to say US will take necessary action to defend against Russian ransomware attacks\nCluster  2 : \n\t CNN :  Biden defends pulling US out of Afghanistan as Taliban advances: 'We did not go to Afghanistan to nation-build'\n\t LA Times :  As Taliban gains, Biden defends U.S. exit from Afghanistan, says it's ahead of schedule\n\t CBS News :  President Biden announced that troops will leave Afghanistan by August 31\n\t CBS News :  U.S. military mission in Afghanistan will end August 31, Biden says\n\t CBS News :  Special Report: Biden announces U.S. military mission in Afghanistan will end on August 31\n\t CBS News :  U.S. to complete withdrawal from Afghanistan by August 31\n\t CBS News :  Taliban overwhelms Afghan troops as U.S. withdrawal looms\n\t Daily Mail :  Biden administration sends 3.3million Covid vaccine doses to Afghanistan with the Taliban surging\nCluster  3 : \n\t LA Times :  Biden talks up bipartisan infrastructure deal in swing-state Wisconsin\n\t LA Times :  'We have a deal': Biden, lawmakers reach tentative bipartisan infrastructure agreement\n\t CBS News :  Democrats race to bring bipartisan infrastructure deal to Senate\n\t Daily Mail :  'Never a veto threat!' Biden backtracks on tying bipartisan infrastructure deal to reconciliation\n\t Daily Mail :  Republican FURY after Biden tied $1.2trillion infrastructure deal to huge reconciliation package\n\t Daily Mail :  Joe Biden's infrastructure deal slammed by The Squad AOC as suggests racism is behind $1.2tn plan\n\t Daily Mail :  Joe Biden will KEEP pushing Republicans to agree to $1.7tn infrastructure deal\nCluster  4 : \n\t LA Times :  GOP blocks Democrats' voting rights bill in Senate, angering activists\n\t Daily Mail :  'Call me radical' AOC slams Republicans for using the filibuster to kill the For The People Act\n\t Daily Mail :  Biden accuses Republicans of 'voter suppression' after entire Senate GOP blocked voting rights bill\n\t Daily Mail :  Manchin will vote to PASS voting rights bill - but Democrats still need 10 Republicans to proceed\n\t Daily Mail :  Mitch McConnell says Democrats show 'disdain for the American people' with their voting rights bill\n\t Daily Mail :  Democrats brace for DEFEAT in voting rights bill after Biden failed to get Joe Manchin to back it\nCluster  5 : \n\t CNN :  Biden fires top official at Social Security Administration after he refuses to resign\n\t HuffPost :  Biden Fires Trump Administration Holdover Who Refused To Resign\n\t CBS News :  Biden fires Social Security Commissioner Andrew Saul\n\t Epoch Times :  Biden Admin Fires Social Security Commissioner Andrew Saul, Who Says He Won’t Leave\n\t National Review :  Biden Fires Social Security Chief after He Refused to Resign\nCluster  6 : \n\t Daily Mail :  House Republican leader urges Nancy Pelosi to remove Ilhan Omar from Foreign Affairs committee\n\t Daily Mail :  House Republicans who voted to oust Marjorie Taylor Greene say Pelosi must punish Ilhan Omar\n\t Daily Mail :  Rashida Tlaib says 'freedom of speech doesn't exist for Muslim women in Congress'\n\t Daily Mail :  Nancy Pelosi now says she WON'T punish Ilhan Omar for comparing the US and Israel to Hamas\n\t Daily Mail :  Ilhan Omar accuses Democratic colleagues of Islamophobia for criticizing her condemnation of the US\nCluster  7 : \n\t CNN :  Biden picks Los Angeles Mayor Eric Garcetti for ambassador to India\n\t HuffPost :  Biden To Nominate LA Mayor Eric Garcetti To Be U.S. Ambassador To India\n\t CBS News :  Biden nominates Los Angeles Mayor Eric Garcetti as ambassador to India\n\t Epoch Times :  Biden Nominates LA Mayor Eric Garcetti for India Ambassador\nCluster  8 : \n\t CNN :  Biden signs sweeping executive order that targets Big Tech and aims to push competition in US economy\n\t HuffPost :  Joe Biden Wants To Crack Down On Noncompete Clauses\n\t CBS News :  Biden signs executive order cracking down on anticompetitive economic practices\n\t BBC News :  Biden signs new order cracking down on Big Tech\nCluster  9 : \n\t HuffPost :  Charlottesville To Remove Confederate Monuments Saturday\n\t CBS News :  Charlottesville removes two Confederate statues\n\t BBC News :  Charlottesville takes down Robert E Lee statue that sparked rally\n\t Epoch Times :  Charlottesville Removes Confederate Robert E. Lee Statue\nCluster  10 : \n\t LA Times :  Kamala Harris sees immigration problems firsthand in visit to the U.S.-Mexico border\n\t LA Times :  Kamala Harris to head to the border amid GOP criticism\n\t BBC News :  Kamala Harris visits US border amid migrant crisis\n\t Daily Mail :  Doug Emhoff denies Trump shamed Kamala into going to the border tomorrow\nCluster  11 : \n\t Epoch Times :  LIVE: CPAC Texas: ‘America Uncanceled’ (Day 2)\n\t Epoch Times :  LIVE: CPAC Texas: ‘America Uncanceled’ (Day 1)\n\t Fox News :  Lt. Gov. Dan Patrick touts Texas COVID approach, says CPAC should stay in Lone Star State\n\t Fox News :  Power briefly goes out at CPAC, massive conservative political conference\nCluster  12 : \n\t CNN :  How the Manhattan DA could pressure Allen Weisselberg to cooperate against Trump\n\t LA Times :  Prosecutors: Trump Organization and CFO Allen Weisselberg dodged taxes for 15 years\n\t LA Times :  He's been Trump's tight-lipped accountant for decades. As New York prosecutors close in, will he keep quiet?\nCluster  13 : \n\t CNN :  'Mr. Pence lost it': New book details VP's fight with Trump\n\t HuffPost :  New Book Details The Only Time Mike Pence Properly ‘Lost It’ At Donald Trump\n\t LA Times :  Pence, in Simi Valley, says he was 'proud' to follow the Constitution on Jan. 6 to certify Biden's win\nCluster  14 : \n\t CNN :  White House doubles down on Covid-19 strategy as pressure from Delta variant rises\n\t LA Times :  Biden urges getting shots as coronavirus variant spreads: 'It's a patriotic thing to do'\n\t BBC News :  Dr Fauci on Delta variant: Unvaccinated Americans risk new Covid surge\nCluster  15 : \n\t LA Times :  Newsom faces court showdown over recall as Caitlyn Jenner is grilled over her record\n\t LA Times :  Column: Feinstein's recall history offers a lesson for those aiming at Newsom — you better not miss\n\t LA Times :  Newsom recall election set for Sept. 14\nCluster  16 : \n\t LA Times :  Biden consoles families of people missing in Florida condo collapse: 'They're going through hell'\n\t Daily Mail :  Joe and Jill Biden will visit the collapsed Miami condo on Thursday\n\t Daily Mail :  Nashville crowd BOOS after Jill Biden talks low vaccine rates during tour of South\nCluster  17 : \n\t LA Times :  House creates committee to investigate Jan. 6 Capitol attack\n\t LA Times :  Pelosi creating House panel to investigate Capitol riot\n\t Daily Mail :  US Capitol riots: Donald Trump slams 'wayward' 35 Republican rebels who voted for commission\nCluster  18 : \n\t CBS News :  CBS News travel editor Peter Greenberg on “The Takeout” - 7/9/2021\n\t CBS News :  The Takeout: A CBS News original political podcast\n\t CBS News :  Investigative reporter Michael Isikoff discusses Jamal Khashoggi's murder\nCluster  19 : \n\t BBC News :  US woman killed by bear that dragged her from tent in Montana\n\t BBC News :  The moment a bear was coaxed off a utility pole\n\t BBC News :  The California girl who pushed a bear to protect her dogs\nCluster  20 : \n\t BBC News :  Surfside tower collapse: 'Zero' hope of finding survivors\n\t BBC News :  Miami building collapse: What could have caused it?\n\t BBC News :  Miami building collapse: 'I'm not losing my hope'\nCluster  21 : \n\t BBC News :  Growing hate crime against Asian Americans\n\t Daily Mail :  Biden slams 'ugly poison' of racism and signs anti-Asian hate crime bill\n\t Daily Mail :  House passes anti-Asian hate crime bill in bipartisan vote of 364-62 and sends it to Biden's desk\nCluster  22 : \n\t BBC News :  George Floyd death: How do I talk to my son about race?\n\t BBC News :  George Floyd death: How US police are trying to win back trust\n\t BBC News :  Adama Traore: How George Floyd's death energised French protests\nCluster  23 : \n\t Epoch Times :  McConnell: Flipping House, Senate in 2022 Would Force Biden to Be a Moderate\n\t Daily Mail :  McConnell slams 'far-left' AOC for not being able to 'sell her agenda to her own party'\n\t Daily Mail :  Mitch McConnell calls rollback of 2017 tax cuts to fund infrastructure 'red line'\nCluster  24 : \n\t Daily Mail :  Rupert Murdoch personally made the decision for Fox News to broadcast its Arizona election call\n\t Daily Mail :  Trump said Bill Barr would have 'licked the floor' if he won 2020 election, new book claims\n\t Daily Mail :  Some Republican National Committee staff did NOT vote for Trump in 2020 US election, book claims\nCluster  25 : \n\t Daily Mail :  Kamala Harris lands her seventh White House role: promoting child tax credit\n\t Daily Mail :  Joe Biden announces he's sending Kamala Harris on Covid 'vaccine tour' to 'educate' Americans\n\t Daily Mail :  Joe Biden and Kamala Harris finally go maskless for indoor White House event\nCluster  26 : \n\t CNN :  Covid anxiety remains as Pfizer and US government provide different messaging\n\t CBS News :  CDC says vaccinated children and teachers won't need masks in class\nCluster  27 : \n\t CNN :  How everyone on Medicare could end up paying for the pricey new Alzheimer's drug\n\t CBS News :  FDA calls for probe of agency, Biogen over Alzheimer's drug\nCluster  28 : \n\t CNN :  Michael Avenatti sentenced to 2.5 years in prison for attempting to extort Nike\n\t BBC News :  Michael Avenatti: Celebrity lawyer sentenced to 30 months in prison for extortion\nCluster  29 : \n\t CNN :  White House helped form ethics agreement with art gallery that's selling Hunter Biden's paintings, sources say\n\t BBC News :  White House defends role in Hunter Biden art sale\nCluster  30 : \n\t CNN :  US to send millions of Covid-19 vaccines to Latin America\n\t CNN :  Jill Biden travels the South to plead with hesitant Americans to get their Covid-19 vaccines\nCluster  31 : \n\t HuffPost :  Chuck Schumer Says Democrats Are Ready To ‘Expeditiously’ Fill Supreme Court Vacancy\n\t Epoch Times :  Schumer: Democrats Prepared to ‘Expeditiously Fill’ Any Supreme Court Vacancy\nCluster  32 : \n\t HuffPost :  Harris Slams GOP Attacks On Voting Rights, Promises Dems Will Fight New Restrictions\n\t LA Times :  Supreme Court limits Voting Rights Act in ruling for Arizona Republicans\nCluster  33 : \n\t HuffPost :  Arizona Secretary Of State Seeks Probe Of Alleged Trump Election Interference\n\t Epoch Times :  Arizona Secretary of State Seeks Probe of Trump, Giuliani\nCluster  34 : \n\t LA Times :  Column: Republican Kevin Faulconer tries to run his recall campaign as a policy wonk\n\t LA Times :  Newsom recall rival Kevin Faulconer unveils plan to address homelessness\nCluster  35 : \n\t LA Times :  U.S. Capitol Police to open California office following Jan. 6 attack\n\t CBS News :  Capitol Police open field offices to investigate threats to lawmakers\nCluster  36 : \n\t LA Times :  'We can't cut corners': Biden pledges support for firefighters on front lines in West\n\t LA Times :  As the West begins to burn, Biden to talk wildfires with Newsom and other governors\nCluster  37 : \n\t LA Times :  Pope Francis meets with Secretary of State Blinken at the Vatican\n\t LA Times :  News analysis: Biden's top diplomat to meet pope — and try to ignore the elephant in the room\nCluster  38 : \n\t LA Times :  McManus: Can Democrats win on crime issues with murders rising? Biden thinks so.\n\t BBC News :  Floyd family reflects on police reform one year on\nCluster  39 : \n\t LA Times :  Justice Department will challenge Georgia's restrictive new voting law\n\t Daily Mail :  Republican National Committee vows to fight Joe Biden lawsuit against Georgia's voting rules\nCluster  40 : \n\t LA Times :  Teamsters' push to organize Amazon: Will it work?\n\t LA Times :  Teamsters vow to unionize Amazon, taking on an anti-union behemoth\nCluster  41 : \n\t LA Times :  Biden to oust Trump-appointed Fannie-Freddie regulator after Supreme Court ruling\n\t LA Times :  Fannie, Freddie shares plunge after Supreme Court deals blow to investors\nCluster  42 : \n\t LA Times :  Supreme Court rules California farms can keep union organizers off private land\n\t LA Times :  In two very different California disputes, Supreme Court affirms private property rights\nCluster  43 : \n\t CBS News :  Vaccination rate among ICE detainees remains low as cases surge\n\t CBS News :  Biden bars ICE from detaining pregnant or nursing women\nCluster  44 : \n\t CBS News :  Texas Legislature takes up contentious voting bills in special session\n\t CBS News :  Texas special session brings election law back into spotlight\nCluster  45 : \n\t CBS News :  AP: Eric Adams wins NYC mayoral primary race becoming Democratic nominee for November election\n\t Daily Mail :  NYC mayoral primary: Andrew Yang accepts rival Eric Adams as winner of Democrat race\nCluster  46 : \n\t CBS News :  Biden pitches \"human infrastructure\" investments\n\t CBS News :  Biden pushes child care and education policies in Illinois visit\nCluster  47 : \n\t BBC News :  Immigration: Is US-Mexico border seeing a surge in migrants?\n\t BBC News :  Child migrants: The challenges facing Biden at the US-Mexico border\nCluster  48 : \n\t BBC News :  'Heartbreaking' conditions in US migrant child camp\n\t BBC News :  US migrant camp 'kids feel like they're in prison'\nCluster  49 : \n\t BBC News :  Katty Kay: How 100 days turned into five years of fun\n\t BBC News :  Katty Kay: 'It's been a privilege to sit in this chair'\nCluster  50 : \n\t Epoch Times :  Michigan Attorney General, Police to Probe People Who Made Election Fraud Claims\n\t Epoch Times :  21 GOP Attorneys General Send Biden Letter Opposing EEOC Transgender Guidance\nCluster  51 : \n\t Epoch Times :  Biden Calls for End to Tax Breaks for Oil Companies as Gas Prices Continue to Rise\n\t Epoch Times :  Biden Signals Openness to Extending Child Tax Credit Beyond 2025\nCluster  52 : \n\t Daily Mail :  Jen Psaki says Joe Biden believes US children need to learn country's 'challenging' history\n\t Daily Mail :  Caitlyn Jenner says she'll fight critical race theory if she becomes Governor of California\nCluster  53 : \n\t Daily Mail :  Democrats urge Kevin McCarthy to address Marjorie Taylor Green's 'dangerous' behavior\n\t Daily Mail :  Marjorie Taylor Greene calls Pelosi a 'Nazi' for refusing to lift House chamber mask mandates\nCluster  54 : \n\t Daily Mail :  Joe Biden raises firefighters minimum wages to $15\n\t Daily Mail :  Biden CAVES on corporate tax hikes, offers to keep 2017 cuts and proposes minimum rate of 15%\nCluster  55 : \n\t Daily Mail :  'Pride is back at the White House': Biden honors LGBTQ month with Jill, Pete Buttigieg and Chasten\n\t Daily Mail :  Joe Biden marks Pride Month by naming a global envoy on LGBTQ rights\nCluster  56 : \n\t Daily Mail :  Jen Psaki says Joe Biden will NOT support a gas tax\n\t Daily Mail :  Jen Psaki snaps at reporter after question on COVID origins\nCluster  57 : \n\t Daily Mail :  Republicans call on Anthony Fauci to RESIGN for I AM SCIENCE statement\n\t Daily Mail :  Covid US: Dr Anthony Fauci and Senator Rand Paul clash on origins of virus in Senate hearing\nCluster  58 : \n\t Daily Mail :  Jill Biden enjoys a day at the beach with Carrie Johnson and son Wilfred\n\t Daily Mail :  Jill Biden appears to take a subtle swipe at Melania Trump in a LOVE-emblazoned jacket at G7\nCluster  59 : \n\t Daily Mail :  Lara Trump denies claims her father-in-law thinks he will be reinstated as president by August\n\t Daily Mail :  Donald Trump 'tells people he will be reinstated as president by AUGUST'\nCluster  60 : \n\t Daily Mail :  Madison Cawthorn is pictured leaving Trump Tower in NYC while ex president leaves for New Jersey\n\t Daily Mail :  Donald arrives at Trump Tower as Republican 2024 hopefuls speak at Reagan Library\nCluster  61 : \n\t Daily Mail :  80% Republicans BACK ousting Liz Cheney as two-thirds claim loyalty to Trump is 'important'\n\t Daily Mail :  House Republicans prepare to elect Trump supporter Elise Stefanik as conference chair\nCluster  62 : \n\t Daily Mail :  Jill Biden follows new CDC rules and removes face mask on trip with Jennifer Garner in West Virginia\n\t Daily Mail :  Jill Biden takes Joe Manchin on West Virginia trip with Jennifer Garner\nCluster  63 : \n\t Daily Mail :  More than 120 retired military officers write to Joe Biden backing 2020 US election fraud claims\n\t Daily Mail :  Republican Leader Kevin McCarthy says 'nobody is questioning legitimacy' of 2020 US election\nCluster  64 : \n\t Daily Mail :  Texas Democrat says Biden is making migrant facilities look empty by moving children into tents\n\t Daily Mail :  Homeland Security Secretary will tour Texas migrant facility Friday\n"
     ]
    }
   ],
   "source": [
    "for i, cluster in enumerate(sorted(new_clusters, reverse=True, key=lambda x: len(x['articles']))):\n",
    "    if len(cluster['articles']) == 1:\n",
    "        continue\n",
    "    print('Cluster ', i + 1, ': ')\n",
    "    for article in cluster['articles']:\n",
    "        print('\\t', article['company'] if 'company' in article else '?', ': ',  article['title'])"
   ]
  },
  {
   "source": [
    "## Conclusion\n",
    "Overall, I think the clusterer works well.  I'm pretty happy with the results here and all the NLP this research article taught me."
   ],
   "cell_type": "markdown",
   "metadata": {}
  },
  {
   "cell_type": "code",
   "execution_count": null,
   "metadata": {},
   "outputs": [],
   "source": []
  }
 ]
}